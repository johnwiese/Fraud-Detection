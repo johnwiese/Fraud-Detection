{
  "nbformat": 4,
  "nbformat_minor": 0,
  "metadata": {
    "colab": {
      "name": "Fraud_detection.ipynb",
      "version": "0.3.2",
      "provenance": []
    },
    "kernelspec": {
      "name": "python3",
      "display_name": "Python 3"
    }
  },
  "cells": [
    {
      "cell_type": "code",
      "metadata": {
        "id": "sFfdxuhYwv-B",
        "colab_type": "code",
        "colab": {}
      },
      "source": [
        "import numpy as np       # Data formating\n",
        "import sklearn as sk\n",
        "import pandas as pd\n",
        "import matplotlib.pyplot as plt\n",
        "from sklearn.preprocessing import scale\n",
        "import random\n",
        "import os"
      ],
      "execution_count": 0,
      "outputs": []
    },
    {
      "cell_type": "code",
      "metadata": {
        "id": "lB_DtR_J_5lc",
        "colab_type": "code",
        "colab": {
          "base_uri": "https://localhost:8080/",
          "height": 119
        },
        "outputId": "a25b8407-3025-40e4-fc01-6348936f7ca2"
      },
      "source": [
        "!pwd\n",
        "!ls -al"
      ],
      "execution_count": 10,
      "outputs": [
        {
          "output_type": "stream",
          "text": [
            "/content\n",
            "total 16\n",
            "drwxr-xr-x 1 root root 4096 Aug 27 16:17 .\n",
            "drwxr-xr-x 1 root root 4096 Sep  9 21:00 ..\n",
            "drwxr-xr-x 1 root root 4096 Sep  4 16:06 .config\n",
            "drwxr-xr-x 1 root root 4096 Aug 27 16:17 sample_data\n"
          ],
          "name": "stdout"
        }
      ]
    },
    {
      "cell_type": "code",
      "metadata": {
        "id": "VghaveXG7Yex",
        "colab_type": "code",
        "colab": {
          "base_uri": "https://localhost:8080/",
          "height": 224
        },
        "outputId": "0193c1a4-606a-4f9b-b300-aba86fb98a59"
      },
      "source": [
        "\n",
        "df = pd.read_csv('creditcard.csv', low_memory=False)\n",
        "df = df.sample(frac=1).reset_index(drop=True)\n",
        "df.head()"
      ],
      "execution_count": 12,
      "outputs": [
        {
          "output_type": "execute_result",
          "data": {
            "text/html": [
              "<div>\n",
              "<style scoped>\n",
              "    .dataframe tbody tr th:only-of-type {\n",
              "        vertical-align: middle;\n",
              "    }\n",
              "\n",
              "    .dataframe tbody tr th {\n",
              "        vertical-align: top;\n",
              "    }\n",
              "\n",
              "    .dataframe thead th {\n",
              "        text-align: right;\n",
              "    }\n",
              "</style>\n",
              "<table border=\"1\" class=\"dataframe\">\n",
              "  <thead>\n",
              "    <tr style=\"text-align: right;\">\n",
              "      <th></th>\n",
              "      <th>Time</th>\n",
              "      <th>V1</th>\n",
              "      <th>V2</th>\n",
              "      <th>V3</th>\n",
              "      <th>V4</th>\n",
              "      <th>V5</th>\n",
              "      <th>V6</th>\n",
              "      <th>V7</th>\n",
              "      <th>V8</th>\n",
              "      <th>V9</th>\n",
              "      <th>V10</th>\n",
              "      <th>V11</th>\n",
              "      <th>V12</th>\n",
              "      <th>V13</th>\n",
              "      <th>V14</th>\n",
              "      <th>V15</th>\n",
              "      <th>V16</th>\n",
              "      <th>V17</th>\n",
              "      <th>V18</th>\n",
              "      <th>V19</th>\n",
              "      <th>V20</th>\n",
              "      <th>V21</th>\n",
              "      <th>V22</th>\n",
              "      <th>V23</th>\n",
              "      <th>V24</th>\n",
              "      <th>V25</th>\n",
              "      <th>V26</th>\n",
              "      <th>V27</th>\n",
              "      <th>V28</th>\n",
              "      <th>Amount</th>\n",
              "      <th>Class</th>\n",
              "    </tr>\n",
              "  </thead>\n",
              "  <tbody>\n",
              "    <tr>\n",
              "      <th>0</th>\n",
              "      <td>10705.0</td>\n",
              "      <td>-1.108000</td>\n",
              "      <td>1.014913</td>\n",
              "      <td>1.752140</td>\n",
              "      <td>-1.175179</td>\n",
              "      <td>-0.272942</td>\n",
              "      <td>-0.750594</td>\n",
              "      <td>0.603226</td>\n",
              "      <td>-0.097217</td>\n",
              "      <td>1.144844</td>\n",
              "      <td>-0.553472</td>\n",
              "      <td>2.506065</td>\n",
              "      <td>-1.410252</td>\n",
              "      <td>2.252205</td>\n",
              "      <td>1.337175</td>\n",
              "      <td>-0.987198</td>\n",
              "      <td>0.662331</td>\n",
              "      <td>-0.183823</td>\n",
              "      <td>0.243065</td>\n",
              "      <td>-0.707118</td>\n",
              "      <td>0.120845</td>\n",
              "      <td>-0.188782</td>\n",
              "      <td>-0.188261</td>\n",
              "      <td>-0.027083</td>\n",
              "      <td>0.528340</td>\n",
              "      <td>-0.352757</td>\n",
              "      <td>0.641732</td>\n",
              "      <td>0.227142</td>\n",
              "      <td>0.232192</td>\n",
              "      <td>47.60</td>\n",
              "      <td>0</td>\n",
              "    </tr>\n",
              "    <tr>\n",
              "      <th>1</th>\n",
              "      <td>10972.0</td>\n",
              "      <td>-0.697615</td>\n",
              "      <td>0.568023</td>\n",
              "      <td>1.940867</td>\n",
              "      <td>-0.846567</td>\n",
              "      <td>-0.197002</td>\n",
              "      <td>-0.248315</td>\n",
              "      <td>0.077403</td>\n",
              "      <td>0.256882</td>\n",
              "      <td>1.250833</td>\n",
              "      <td>-0.792536</td>\n",
              "      <td>2.280682</td>\n",
              "      <td>-2.450008</td>\n",
              "      <td>0.295320</td>\n",
              "      <td>1.795635</td>\n",
              "      <td>-0.402000</td>\n",
              "      <td>0.511080</td>\n",
              "      <td>0.216579</td>\n",
              "      <td>0.387244</td>\n",
              "      <td>-1.078618</td>\n",
              "      <td>-0.058270</td>\n",
              "      <td>0.081756</td>\n",
              "      <td>0.476372</td>\n",
              "      <td>-0.031731</td>\n",
              "      <td>0.190403</td>\n",
              "      <td>-0.574824</td>\n",
              "      <td>0.855459</td>\n",
              "      <td>0.264070</td>\n",
              "      <td>0.174152</td>\n",
              "      <td>15.95</td>\n",
              "      <td>0</td>\n",
              "    </tr>\n",
              "    <tr>\n",
              "      <th>2</th>\n",
              "      <td>124438.0</td>\n",
              "      <td>-0.204871</td>\n",
              "      <td>1.136555</td>\n",
              "      <td>0.173129</td>\n",
              "      <td>-0.353954</td>\n",
              "      <td>1.135805</td>\n",
              "      <td>-0.658703</td>\n",
              "      <td>1.088071</td>\n",
              "      <td>-0.189357</td>\n",
              "      <td>-0.597564</td>\n",
              "      <td>-1.078104</td>\n",
              "      <td>-0.578547</td>\n",
              "      <td>0.152101</td>\n",
              "      <td>0.780468</td>\n",
              "      <td>-1.049652</td>\n",
              "      <td>-0.012955</td>\n",
              "      <td>0.037646</td>\n",
              "      <td>0.551830</td>\n",
              "      <td>-0.188994</td>\n",
              "      <td>0.448018</td>\n",
              "      <td>0.056984</td>\n",
              "      <td>-0.262162</td>\n",
              "      <td>-0.687657</td>\n",
              "      <td>-0.057038</td>\n",
              "      <td>0.598820</td>\n",
              "      <td>-0.413392</td>\n",
              "      <td>0.208127</td>\n",
              "      <td>0.102802</td>\n",
              "      <td>0.183238</td>\n",
              "      <td>0.99</td>\n",
              "      <td>0</td>\n",
              "    </tr>\n",
              "    <tr>\n",
              "      <th>3</th>\n",
              "      <td>67678.0</td>\n",
              "      <td>-1.284143</td>\n",
              "      <td>1.466248</td>\n",
              "      <td>0.633619</td>\n",
              "      <td>-1.043425</td>\n",
              "      <td>1.076234</td>\n",
              "      <td>-0.310005</td>\n",
              "      <td>1.159264</td>\n",
              "      <td>-0.231801</td>\n",
              "      <td>0.059168</td>\n",
              "      <td>-0.214966</td>\n",
              "      <td>-1.907428</td>\n",
              "      <td>-0.358250</td>\n",
              "      <td>0.324966</td>\n",
              "      <td>-0.171488</td>\n",
              "      <td>-0.230529</td>\n",
              "      <td>0.915542</td>\n",
              "      <td>-1.628696</td>\n",
              "      <td>0.196666</td>\n",
              "      <td>-1.424715</td>\n",
              "      <td>-0.186914</td>\n",
              "      <td>0.067792</td>\n",
              "      <td>0.016391</td>\n",
              "      <td>-0.412565</td>\n",
              "      <td>-1.027841</td>\n",
              "      <td>0.488939</td>\n",
              "      <td>-0.630984</td>\n",
              "      <td>-0.371313</td>\n",
              "      <td>0.173459</td>\n",
              "      <td>5.37</td>\n",
              "      <td>0</td>\n",
              "    </tr>\n",
              "    <tr>\n",
              "      <th>4</th>\n",
              "      <td>122806.0</td>\n",
              "      <td>0.823525</td>\n",
              "      <td>1.033314</td>\n",
              "      <td>-0.326135</td>\n",
              "      <td>4.150498</td>\n",
              "      <td>1.710990</td>\n",
              "      <td>2.754547</td>\n",
              "      <td>0.087626</td>\n",
              "      <td>0.561192</td>\n",
              "      <td>-1.936451</td>\n",
              "      <td>1.808954</td>\n",
              "      <td>0.565728</td>\n",
              "      <td>0.462645</td>\n",
              "      <td>1.013478</td>\n",
              "      <td>0.283714</td>\n",
              "      <td>0.306368</td>\n",
              "      <td>-0.787163</td>\n",
              "      <td>0.370157</td>\n",
              "      <td>-0.434382</td>\n",
              "      <td>0.321885</td>\n",
              "      <td>0.070312</td>\n",
              "      <td>0.516158</td>\n",
              "      <td>1.777805</td>\n",
              "      <td>0.048926</td>\n",
              "      <td>-0.886902</td>\n",
              "      <td>-1.124391</td>\n",
              "      <td>0.569527</td>\n",
              "      <td>0.191587</td>\n",
              "      <td>0.040579</td>\n",
              "      <td>10.59</td>\n",
              "      <td>0</td>\n",
              "    </tr>\n",
              "  </tbody>\n",
              "</table>\n",
              "</div>"
            ],
            "text/plain": [
              "       Time        V1        V2        V3  ...       V27       V28  Amount  Class\n",
              "0   10705.0 -1.108000  1.014913  1.752140  ...  0.227142  0.232192   47.60      0\n",
              "1   10972.0 -0.697615  0.568023  1.940867  ...  0.264070  0.174152   15.95      0\n",
              "2  124438.0 -0.204871  1.136555  0.173129  ...  0.102802  0.183238    0.99      0\n",
              "3   67678.0 -1.284143  1.466248  0.633619  ... -0.371313  0.173459    5.37      0\n",
              "4  122806.0  0.823525  1.033314 -0.326135  ...  0.191587  0.040579   10.59      0\n",
              "\n",
              "[5 rows x 31 columns]"
            ]
          },
          "metadata": {
            "tags": []
          },
          "execution_count": 12
        }
      ]
    },
    {
      "cell_type": "code",
      "metadata": {
        "id": "ZrEwteC7Dh4f",
        "colab_type": "code",
        "colab": {
          "base_uri": "https://localhost:8080/",
          "height": 51
        },
        "outputId": "3392fa3c-a90a-40cf-a5a9-07eac5ee47f4"
      },
      "source": [
        "fraud = df.loc[df['Class']== 1]\n",
        "non_frauds = df.loc[df['Class']== 0]\n",
        "print(len(fraud))\n",
        "print(len(non_frauds))"
      ],
      "execution_count": 14,
      "outputs": [
        {
          "output_type": "stream",
          "text": [
            "492\n",
            "284315\n"
          ],
          "name": "stdout"
        }
      ]
    },
    {
      "cell_type": "code",
      "metadata": {
        "id": "ZDY_tgFAExKz",
        "colab_type": "code",
        "colab": {
          "base_uri": "https://localhost:8080/",
          "height": 283
        },
        "outputId": "cde1c7ce-acf2-43f1-d103-35d4b5393169"
      },
      "source": [
        "ax = fraud.plot.scatter(x='Amount',y='Class',color='Orange',label='Fraud')\n",
        "non_frauds.plot.scatter(x='Amount',y='Class',color='Blue',label='Normal',ax=ax)\n",
        "plt.show()"
      ],
      "execution_count": 18,
      "outputs": [
        {
          "output_type": "display_data",
          "data": {
            "image/png": "[encoded data removed]",
            "text/plain": [
              "<Figure size 432x288 with 1 Axes>"
            ]
          },
          "metadata": {
            "tags": []
          }
        }
      ]
    },
    {
      "cell_type": "code",
      "metadata": {
        "id": "zqy_SaBbKEea",
        "colab_type": "code",
        "colab": {}
      },
      "source": [
        "# Start the machine learning\n",
        "\n",
        "from sklearn import linear_model\n",
        "from sklearn.model_selection import train_test_split"
      ],
      "execution_count": 0,
      "outputs": []
    },
    {
      "cell_type": "code",
      "metadata": {
        "id": "tEyCaVHqK_j9",
        "colab_type": "code",
        "colab": {}
      },
      "source": [
        "x = df.iloc[:,:-1]\n",
        "y = df['Class']\n",
        "\n",
        "X_train, X_test, y_train, y_test = train_test_split(x,y,test_size=0.35)"
      ],
      "execution_count": 0,
      "outputs": []
    },
    {
      "cell_type": "code",
      "metadata": {
        "id": "6HF0-QatNQqR",
        "colab_type": "code",
        "colab": {
          "base_uri": "https://localhost:8080/",
          "height": 88
        },
        "outputId": "a4f9a0fb-b1c5-4ea2-d6ed-124f2a08c9a8"
      },
      "source": [
        "logistic = linear_model.LogisticRegression(C=1e5)\n",
        "logistic.fit(X_train,y_train)\n",
        "print('Score: ',logistic.score(X_test, y_test))"
      ],
      "execution_count": 22,
      "outputs": [
        {
          "output_type": "stream",
          "text": [
            "/usr/local/lib/python3.6/dist-packages/sklearn/linear_model/logistic.py:432: FutureWarning: Default solver will be changed to 'lbfgs' in 0.22. Specify a solver to silence this warning.\n",
            "  FutureWarning)\n"
          ],
          "name": "stderr"
        },
        {
          "output_type": "stream",
          "text": [
            "Score:  0.9987961839029724\n"
          ],
          "name": "stdout"
        }
      ]
    },
    {
      "cell_type": "code",
      "metadata": {
        "id": "hwDYD7_wO0f1",
        "colab_type": "code",
        "colab": {}
      },
      "source": [
        "y_predicted = np.array(logistic.predict(X_test))\n",
        "print(y_predicted)"
      ],
      "execution_count": 0,
      "outputs": []
    },
    {
      "cell_type": "markdown",
      "metadata": {
        "id": "A0v9vykk208o",
        "colab_type": "text"
      },
      "source": [
        "**Credit card Fraud Detection with Machine Learning**\n",
        "  Using scikit learn\n",
        "  Kagel credit card data from: https://www.kaggle.com/mlg-ulb/creditcardfraud\n",
        "  Model: Logistic Regression\n",
        "\n",
        "\n",
        "\n",
        "\n",
        "Our Tasks\n",
        "  \n",
        "\n",
        "*   Explore and visualize the dataset\n",
        "*   Decide on which features are important\n",
        "*   Perform Machine Learning\n",
        "*   Test the model on the testing data set"
      ]
    },
    {
      "cell_type": "markdown",
      "metadata": {
        "id": "nGf-SHo4Pczo",
        "colab_type": "text"
      },
      "source": [
        "Other things to do:\n",
        "* Use seaborn for visualization\n",
        "* Create additional visualizations\n",
        "  Bar chart, pie chart\n",
        "*   Vary test sizes\n",
        "*   Other models than logistic regression\n",
        "*   Other libs\n",
        "\n"
      ]
    }
  ]
}